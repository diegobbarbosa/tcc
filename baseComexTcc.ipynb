{
 "cells": [
  {
   "cell_type": "markdown",
   "metadata": {
    "id": "0LgSbFB-Q8Ac"
   },
   "source": [
    "Trabalho de Conclusão de Curso - TCC\n",
    "\n",
    "# MODELO PREDITIVO PARA DETERMINAÇÃO DO PAÍS DE ORIGEM DE MERCADORIAS IMPORTADAS\n",
    "\n",
    "Diego de Borba Barbosa\n",
    "\n",
    "Curso de Especialização em Ciência de Dados e Big Data, Puc Minas, abril de 2022"
   ]
  },
  {
   "cell_type": "markdown",
   "metadata": {
    "id": "63lgP468wG8T"
   },
   "source": [
    "# Coleta de dados"
   ]
  },
  {
   "cell_type": "markdown",
   "metadata": {
    "id": "lrnH3zCOwbBE",
    "slideshow": {
     "slide_type": "-"
    }
   },
   "source": [
    "## Importar bibliotecas"
   ]
  },
  {
   "cell_type": "code",
   "execution_count": null,
   "metadata": {
    "id": "HPbJdhoOjvGF"
   },
   "outputs": [],
   "source": [
    "#Carrega as bibliotecas do modelo e algumas utilizadas em testes\n",
    "#!pip install pydotplus\n",
    "#!pip install dtreeviz\n",
    "#from sklearn.inspection import permutation_importance\n",
    "#import sklearn\n",
    "#print('The scikit-learn version is {}.'.format(sklearn.__version__))\n",
    "import functools\n",
    "import pandas as pd\n",
    "import numpy as np\n",
    "from sklearn.model_selection import train_test_split\n",
    "from sklearn.model_selection import cross_val_score\n",
    "from sklearn.model_selection import GridSearchCV\n",
    "from sklearn.model_selection import RandomizedSearchCV\n",
    "from sklearn.linear_model import LogisticRegression\n",
    "from sklearn import datasets, tree\n",
    "from sklearn.tree import DecisionTreeClassifier\n",
    "from sklearn.naive_bayes import CategoricalNB\n",
    "from sklearn.neighbors import KNeighborsClassifier\n",
    "from sklearn.ensemble import RandomForestClassifier\n",
    "from sklearn.metrics import accuracy_score, classification_report, confusion_matrix, mean_absolute_error, r2_score\n",
    "from sklearn.metrics import precision_score, recall_score, f1_score\n",
    "from sklearn.feature_extraction import DictVectorizer\n",
    "from sklearn.preprocessing import LabelEncoder\n",
    "from sklearn.model_selection import KFold\n",
    "import time\n",
    "from functools import wraps\n",
    "import pydotplus \n",
    "from IPython.display import Image\n",
    "import matplotlib.pyplot as plt\n",
    "from matplotlib.colors import ListedColormap\n",
    "from matplotlib.pyplot import subplots\n",
    "from PIL import Image\n",
    "from wordcloud import WordCloud, STOPWORDS, ImageColorGenerator\n",
    "import seaborn as sns\n",
    "import warnings\n",
    "warnings.filterwarnings(\"ignore\")\n",
    "\n",
    "%matplotlib inline\n",
    "plt.rcParams[\"figure.figsize\"] = [15, 12]"
   ]
  },
  {
   "cell_type": "markdown",
   "metadata": {
    "id": "1VNs6_z5wozq"
   },
   "source": [
    "## Parâmetros"
   ]
  },
  {
   "cell_type": "code",
   "execution_count": null,
   "metadata": {
    "id": "ItMQ5yfDTZtI"
   },
   "outputs": [],
   "source": [
    "# Define parâmetros para exploração e criação do modelo\n",
    "#versão do teste com colunas e hiperparâmetros específicos\n",
    "VERSAO_DO_TESTE = \"1.0\"\n",
    "#Anos utilizados para análise exploratória\n",
    "ANOS = [2019, 2020, 2021]\n",
    "#Filtro por capítulos de 0 até 99 - filtrar para reduzir consumo de memória\n",
    "CAPITULO_INICIO = 0\n",
    "CAPITULO_FIM = 30\n",
    "#Estrutura y_metricas acumula métricas de avaliação de performance dos modelos\n",
    "#Deve-se executar seção \"Treinamento de modelos\" e células posteriores para cada um dos modelos\n",
    "y_metricas = dict()"
   ]
  },
  {
   "cell_type": "markdown",
   "metadata": {
    "id": "ykfBK8UywxBv"
   },
   "source": [
    "## Carga dos datasets"
   ]
  },
  {
   "cell_type": "code",
   "execution_count": null,
   "metadata": {
    "colab": {
     "base_uri": "https://localhost:8080/",
     "height": 497
    },
    "id": "_yoMqQR2koit",
    "outputId": "b9822f07-4283-47b7-871d-07f642ea40ce"
   },
   "outputs": [],
   "source": [
    "#Carregamento do dataset\n",
    "start_time = time.time()\n",
    "\n",
    "#dataset principal com dados brutos\n",
    "baseComex = pd.DataFrame()\n",
    "for ano in ANOS:\n",
    "    baseComex = baseComex.append(pd.read_csv(\".//Dados//IMP_{0}.csv\".format(ano), sep = ';', encoding='latin-1'))  \n",
    "\n",
    "print(\"Informações do dataset principal IMP_2021\")\n",
    "print(\"\\nTipo: {0}\".format(type(baseComex)))\n",
    "print(\"Dimensões: {0}\".format(baseComex.shape))\n",
    "print(\"Campos: {0}\".format(baseComex.keys()))\n",
    "baseComex.describe()"
   ]
  },
  {
   "cell_type": "code",
   "execution_count": null,
   "metadata": {},
   "outputs": [],
   "source": [
    "baseComex.memory_usage().sum()/1024**2\n",
    "#baseComex.dtypes"
   ]
  },
  {
   "cell_type": "code",
   "execution_count": null,
   "metadata": {
    "colab": {
     "base_uri": "https://localhost:8080/",
     "height": 238
    },
    "id": "zAnwPbDiOqzV",
    "outputId": "663874d7-b110-4ea1-b7cc-356536058095"
   },
   "outputs": [],
   "source": [
    "#computar tempo de carregamento\n",
    "elapsed_time = time.time() - start_time\n",
    "print(\"\\nLoad Dataset: %.2f\" %elapsed_time, \"segundos\")\n",
    "baseComex.head()"
   ]
  },
  {
   "cell_type": "code",
   "execution_count": null,
   "metadata": {
    "colab": {
     "base_uri": "https://localhost:8080/",
     "height": 306
    },
    "id": "31qCc8Q6KCV_",
    "outputId": "55f7cfa7-056c-4550-a86c-9f165419f97f"
   },
   "outputs": [],
   "source": [
    "#carrega domínios e dataset acessórios\n",
    "base_pais = pd.read_csv('.//Dados//PAIS.csv', sep = ';' , encoding='latin-1') \n",
    "print(\"Informações do dataset PAIS\")\n",
    "print(\"\\nDimensões: {0}\".format(base_pais.shape))\n",
    "print(\"Campos: {0}\".format(base_pais.keys()))\n",
    "base_pais.head()"
   ]
  },
  {
   "cell_type": "code",
   "execution_count": null,
   "metadata": {
    "colab": {
     "base_uri": "https://localhost:8080/",
     "height": 644
    },
    "id": "4tfubxuHKZ15",
    "outputId": "161270f2-d46c-4d44-dcce-8e957834dad0"
   },
   "outputs": [],
   "source": [
    "base_via = pd.read_csv('.//Dados//VIA.csv', sep = ';', encoding='latin-1') \n",
    "print(\"Informações do dataset VIA\")\n",
    "print(\"\\nDimensões: {0}\".format(base_via.shape))\n",
    "print(\"Campos: {0}\".format(base_via.keys()))\n",
    "base_via"
   ]
  },
  {
   "cell_type": "code",
   "execution_count": null,
   "metadata": {
    "colab": {
     "base_uri": "https://localhost:8080/",
     "height": 272
    },
    "id": "Ei2ka_D1Kgsn",
    "outputId": "16c968cb-e41d-492a-d29b-ba71130d0850"
   },
   "outputs": [],
   "source": [
    "base_URF = pd.read_csv('.//Dados//URF.csv', sep = ';', encoding='latin-1') \n",
    "print(\"Informações do dataset URF\")\n",
    "print(\"\\nDimensões: {0}\".format(base_URF.shape))\n",
    "print(\"Campos: {0}\".format(base_URF.keys()))\n",
    "base_URF.head()"
   ]
  },
  {
   "cell_type": "code",
   "execution_count": null,
   "metadata": {
    "colab": {
     "base_uri": "https://localhost:8080/",
     "height": 540
    },
    "id": "U-lmvpShKgz6",
    "outputId": "4b5b6326-2deb-4c1d-82a1-3d90b2071249"
   },
   "outputs": [],
   "source": [
    "base_NCM = pd.read_csv('.//Dados//NCM.csv', sep = ';', encoding='latin-1')\n",
    "print(\"Informações do dataset NCM\")\n",
    "print(\"\\nDimensões: {0}\".format(base_NCM.shape))\n",
    "print(\"Campos: {0}\".format(base_NCM.keys()))\n",
    "base_NCM.head()"
   ]
  },
  {
   "cell_type": "code",
   "execution_count": null,
   "metadata": {
    "colab": {
     "base_uri": "https://localhost:8080/",
     "height": 744
    },
    "id": "0yFRxv2jKg5v",
    "outputId": "0d2ba004-0d19-44e3-e0da-cf8eb53832d6"
   },
   "outputs": [],
   "source": [
    "base_SH6 = pd.read_csv('.//Dados//NCM_SH.csv', sep = ';', encoding='latin-1')\n",
    "print(\"Informações do dataset NCM_SH\")\n",
    "print(\"\\nDimensões: {0}\".format(base_SH6.shape))\n",
    "print(\"Campos: {0}\".format(base_SH6.keys()))\n",
    "base_SH6.head()"
   ]
  },
  {
   "cell_type": "markdown",
   "metadata": {
    "id": "TNjdBSJlw6O3"
   },
   "source": [
    "## Enriquecimento de dataset"
   ]
  },
  {
   "cell_type": "code",
   "execution_count": null,
   "metadata": {
    "colab": {
     "base_uri": "https://localhost:8080/"
    },
    "id": "G5pNmrmGKICG",
    "outputId": "b0389866-b00c-4760-8c73-61896c2697a1"
   },
   "outputs": [],
   "source": [
    "#dataset enriquecido com domínios e dataset acessórios\n",
    "baseComexEnriquecida = pd.merge(baseComex, base_pais, on=\"CO_PAIS\", how=\"inner\")\n",
    "baseComexEnriquecida = pd.merge(baseComexEnriquecida, base_via, on=\"CO_VIA\", how=\"inner\")\n",
    "baseComexEnriquecida = pd.merge(baseComexEnriquecida, base_URF, on=\"CO_URF\", how=\"inner\")\n",
    "baseComexEnriquecida = pd.merge(baseComexEnriquecida, base_NCM, on=[\"CO_NCM\",\"CO_UNID\"], how=\"inner\")\n",
    "baseComexEnriquecida = pd.merge(baseComexEnriquecida, base_SH6, on=\"CO_SH6\", how=\"inner\")\n",
    "\n",
    "#Filtrar dataset para manter apenas colunas para análise exploratória\n",
    "lista = ['CO_ANO', 'CO_MES', 'CO_SH2', 'NO_SH2_POR', 'CO_SH4', 'NO_SH4_POR', 'CO_SH6', \n",
    "         'CO_NCM', 'CO_UNID', 'CO_PAIS', 'NO_PAIS', 'SG_UF_NCM','CO_VIA','NO_VIA', \n",
    "         'CO_URF', 'NO_URF', 'QT_ESTAT', 'KG_LIQUIDO', 'VL_FOB', 'VL_FRETE', 'VL_SEGURO']\n",
    "\n",
    "baseComexEnriquecidaAmostra = baseComexEnriquecida[lista]\n",
    "print(\"Informações do dataset principal enriquecido para análise exploratória\")\n",
    "#print(\"\\nFiltros por capítulo SH2: {0} a {1}\".format(CAPITULO_INICIO, CAPITULO_FIM))\n",
    "print(\"Dimensões: {0}\".format(baseComexEnriquecidaAmostra.shape))\n",
    "print(\"Campos: {0}\".format(baseComexEnriquecidaAmostra.keys()))"
   ]
  },
  {
   "cell_type": "code",
   "execution_count": null,
   "metadata": {},
   "outputs": [],
   "source": [
    "#Filtrar dataset para manter apenas colunas para criação do modelo\n",
    "lista = ['CO_ANO', 'CO_MES', 'CO_SH2', 'CO_SH4', 'CO_NCM', \n",
    "         'CO_UNID', 'CO_PAIS', 'SG_UF_NCM','CO_VIA', 'CO_URF', \n",
    "         'QT_ESTAT', 'KG_LIQUIDO', 'VL_FOB', 'VL_FRETE', 'VL_SEGURO']\n",
    "baseComexModelo = baseComexEnriquecida[lista]\n",
    "\n",
    "#Filtrando dataset para selecionar um intervalo de mercadorias por capitulo\n",
    "baseComexModelo = baseComexModelo.loc[\n",
    "                                (baseComexModelo['CO_SH2'] >= CAPITULO_INICIO) \n",
    "                                & (baseComexModelo['CO_SH2'] <= CAPITULO_FIM)]\n",
    "\n",
    "#Filtrar dataset para criar modelo - reduzir consumo de memória\n",
    "#Criar colunas derivadas no dataset do modelo\n",
    "baseComexModelo[\"VL_FRETE/KG_LIQUIDO\"]= baseComexModelo[\"VL_FRETE\"]/ baseComexModelo[\"KG_LIQUIDO\"]\n",
    "baseComexModelo[\"VL_FRETE/KG_LIQUIDO\"].replace(np.inf, 0, inplace=True)\n",
    "baseComexModelo[\"VL_FRETE/KG_LIQUIDO\"].replace(np.nan, 0, inplace=True)\n",
    "\n",
    "baseComexModelo[\"VL_FOB/KG_LIQUIDO\"]= baseComexModelo[\"VL_FOB\"]/ baseComexModelo[\"KG_LIQUIDO\"]\n",
    "baseComexModelo[\"VL_FOB/KG_LIQUIDO\"].replace(np.inf, 0, inplace=True)\n",
    "baseComexModelo[\"VL_FOB/KG_LIQUIDO\"].replace(np.nan, 0, inplace=True)\n",
    "\n",
    "print(\"\\nInformações do dataset principal para criação do modelo\")\n",
    "print(\"\\nFiltros por capítulo SH2: {0} a {1}\".format(CAPITULO_INICIO, CAPITULO_FIM))\n",
    "print(\"Dimensões: {0}\".format(baseComexModelo.shape))\n",
    "print(\"Campos: {0}\".format(baseComexModelo.keys()))"
   ]
  },
  {
   "cell_type": "code",
   "execution_count": null,
   "metadata": {
    "colab": {
     "base_uri": "https://localhost:8080/",
     "height": 268
    },
    "id": "Otrh7lzJkWo5",
    "outputId": "e59216de-f651-496f-ab87-1b1a34df0a7e"
   },
   "outputs": [],
   "source": [
    "baseComexModelo.head()"
   ]
  },
  {
   "cell_type": "markdown",
   "metadata": {
    "id": "P__TVZEFNVbt"
   },
   "source": [
    "# Análise exploratória"
   ]
  },
  {
   "cell_type": "markdown",
   "metadata": {
    "id": "9vXUYGMexKhA"
   },
   "source": [
    "## Gráficos"
   ]
  },
  {
   "cell_type": "code",
   "execution_count": null,
   "metadata": {
    "colab": {
     "base_uri": "https://localhost:8080/",
     "height": 525
    },
    "id": "UDbeKpxMKIal",
    "outputId": "7ea4cee9-f912-40fb-9054-ff83f91f4f16"
   },
   "outputs": [],
   "source": [
    "df_graf_via_fob = baseComexEnriquecidaAmostra.groupby([\"NO_VIA\"]).agg({\"VL_FOB\":['sum']})\n",
    "df_graf_via_kg = baseComexEnriquecidaAmostra.groupby([\"NO_VIA\"]).agg({\"KG_LIQUIDO\":['sum']})\n",
    "df_graf_via_frete = baseComexEnriquecidaAmostra.groupby([\"NO_VIA\"]).agg({\"VL_FRETE\":['sum']})\n",
    "df_graf_via_pais = baseComexEnriquecidaAmostra.groupby([\"NO_VIA\"]).agg({\"NO_PAIS\":['nunique']})\n",
    "\n",
    "#plt.style.use(style =\"seaborn\")\n",
    "plt.rcdefaults()\n",
    "\n",
    "# Cada plot terá o mesmo tamanho de figuras\n",
    "fig, ((ax1, ax2), (ax3, ax4)) = plt.subplots(2, 2, figsize=(15,7))\n",
    "\n",
    "x1 = df_graf_via_fob.index.tolist() \n",
    "x2 = df_graf_via_kg.index.tolist() \n",
    "x3 = df_graf_via_frete.index.tolist() \n",
    "x4 = df_graf_via_pais.index.tolist() \n",
    "\n",
    "y1 = df_graf_via_fob['VL_FOB'][ 'sum'].tolist()\n",
    "y2 = df_graf_via_kg['KG_LIQUIDO']['sum'].tolist()\n",
    "y3 = df_graf_via_frete['VL_FRETE']['sum'].tolist()\n",
    "y4 = df_graf_via_pais['NO_PAIS']['nunique'].tolist()\n",
    "\n",
    "ax1.bar(x1, y1,color='red')\n",
    "ax2.bar(x2, y2,color='blue')\n",
    "ax3.bar(x3, y3,color='orange')\n",
    "ax4.bar(x4, y4,color='green')\n",
    "\n",
    "ax1.set(title=\"Valor FOB das mercadorias x Via de transporte\", xlabel=\"Via de transporte\", ylabel=\"Valor FOB\")\n",
    "ax2.set(title=\"Peso líquido (Kg) das mercadorias x Via de transporte\", xlabel=\"Via de transporte\", ylabel=\"Peso líquido (Kg)\")\n",
    "ax3.set(title=\"Valor do frete x Via de transporte\", xlabel=\"Via de transporte\", ylabel=\"Valor do frete\")\n",
    "ax4.set(title=\"Quantidade de países de origem x Via de transporte\", xlabel=\"Via de transporte\", ylabel=\"Quantidade de países\")\n",
    "\n",
    "ax1.set_xticklabels(x1, rotation=45, ha='right')\n",
    "ax2.set_xticklabels(x2, rotation=45, ha='right')\n",
    "ax3.set_xticklabels(x3, rotation=45, ha='right')\n",
    "ax4.set_xticklabels(x4, rotation=45, ha='right')\n",
    "\n",
    "plt.subplots_adjust(wspace=0.2, hspace=1)\n",
    "#plt.legend()\n",
    "plt.show()"
   ]
  },
  {
   "cell_type": "code",
   "execution_count": null,
   "metadata": {
    "colab": {
     "base_uri": "https://localhost:8080/",
     "height": 390
    },
    "id": "nauNR8hsxxNz",
    "outputId": "e398c67d-789f-42fc-90ee-88b1d6afb67c"
   },
   "outputs": [],
   "source": [
    "df_graf_pais_fob = baseComexEnriquecidaAmostra.groupby([\"NO_PAIS\"]).agg({\"VL_FOB\":['sum']})\n",
    "df_graf_pais_kg = baseComexEnriquecidaAmostra.groupby([\"NO_PAIS\"]).agg({\"KG_LIQUIDO\":['sum']})\n",
    "df_graf_pais_frete = baseComexEnriquecidaAmostra.groupby([\"NO_PAIS\"]).agg({\"VL_FRETE\":['sum']})\n",
    "df_graf_pais_ncm = baseComexEnriquecidaAmostra.groupby([\"NO_PAIS\"]).agg({\"CO_NCM\":['nunique']})\n",
    "\n",
    "df_graf_pais_fob.columns = [\"VL_FOB_sum\"]\n",
    "df_graf_pais_kg.columns = [\"KG_LIQUIDO_sum\"]\n",
    "df_graf_pais_frete.columns = [\"VL_FRETE_sum\"]\n",
    "df_graf_pais_ncm.columns = [\"CO_NCM_nunique\"]\n",
    "\n",
    "top = 15\n",
    "df_graf_pais_fob = df_graf_pais_fob.sort_values(by=\"VL_FOB_sum\", ascending=False).head(top)\n",
    "df_graf_pais_kg = df_graf_pais_kg.sort_values(by=\"KG_LIQUIDO_sum\", ascending=False).head(top)\n",
    "df_graf_pais_frete = df_graf_pais_frete.sort_values(by=\"VL_FRETE_sum\", ascending=False).head(top)\n",
    "df_graf_pais_ncm = df_graf_pais_ncm.sort_values(by=\"CO_NCM_nunique\", ascending=False).head(top)\n",
    "\n",
    "plt.rcdefaults()\n",
    "\n",
    "# Cada plot terá o mesmo tamanho de figuras\n",
    "fig, ((ax1, ax2), (ax3, ax4)) = plt.subplots(2, 2, figsize=(15,7))\n",
    "\n",
    "x1 = df_graf_pais_fob.index.tolist() \n",
    "x2 = df_graf_pais_kg.index.tolist() \n",
    "x3 = df_graf_pais_frete.index.tolist() \n",
    "x4 = df_graf_pais_ncm.index.tolist() \n",
    "\n",
    "y1 = df_graf_pais_fob['VL_FOB_sum'].tolist()\n",
    "y2 = df_graf_pais_kg['KG_LIQUIDO_sum'].tolist()\n",
    "y3 = df_graf_pais_frete['VL_FRETE_sum'].tolist()\n",
    "y4 = df_graf_pais_ncm['CO_NCM_nunique'].tolist()\n",
    "\n",
    "ax1.barh(x1, y1,color='red')\n",
    "ax2.barh(x2, y2,color='blue')\n",
    "ax3.barh(x3, y3,color='orange')\n",
    "ax4.barh(x4, y4,color='green')\n",
    "\n",
    "ax1.set(title=\"Países de origem das mercadorias (top {0}) x Valor FOB\".format(top), xlabel=\"Valor FOB\", ylabel=\"Países de origem\")\n",
    "ax2.set(title=\"Países de origem das mercadorias (top {0}) x Peso líquido (Kg) das mercadorias\".format(top), xlabel=\"Peso líquido (Kg)\", ylabel=\"Países de origem\")\n",
    "ax3.set(title=\"Países de origem das mercadorias (top {0}) x Valor do frete\".format(top), xlabel=\"Valor do frete\", ylabel=\"Países de origem\")\n",
    "ax4.set(title=\"Países de origem das mercadorias (top {0})  x Contagem diferentes mercadorias (NCM)\".format(top), xlabel=\"Contagem diferentes mercadorias (NCM)\", ylabel=\"Países de origem\")\n",
    "\n",
    "plt.subplots_adjust(wspace=0.4, hspace=0.5)\n",
    "#plt.legend()\n",
    "plt.show()"
   ]
  },
  {
   "cell_type": "code",
   "execution_count": null,
   "metadata": {
    "colab": {
     "base_uri": "https://localhost:8080/",
     "height": 451
    },
    "id": "2l0Z1NMyJzNL",
    "outputId": "50b98d62-a9a7-47bc-ddf3-19b4c691b635"
   },
   "outputs": [],
   "source": [
    "#FAZER POR ANO\n",
    "df_graf_ano_fob = baseComexEnriquecidaAmostra.groupby([\"CO_ANO\"]).agg({\"VL_FOB\":['sum']})\n",
    "df_graf_ano_kg = baseComexEnriquecidaAmostra.groupby([\"CO_ANO\"]).agg({\"KG_LIQUIDO\":['sum']})\n",
    "df_graf_ano_frete = baseComexEnriquecidaAmostra.groupby([\"CO_ANO\"]).agg({\"VL_FRETE\":['sum']})\n",
    "df_graf_ano_ncm = baseComexEnriquecidaAmostra.groupby([\"CO_ANO\"]).agg({\"CO_NCM\":['nunique']})\n",
    "\n",
    "plt.rcdefaults()\n",
    "\n",
    "# Cada plot terá o mesmo tamanho de figuras\n",
    "fig, ((ax1, ax2), (ax3, ax4)) = plt.subplots(2, 2, figsize=(15,7))\n",
    "\n",
    "x1 = df_graf_ano_fob.index.tolist()\n",
    "x2 = df_graf_ano_kg.index.tolist() \n",
    "x3 = df_graf_ano_frete.index.tolist() \n",
    "x4 = df_graf_ano_ncm.index.tolist() \n",
    "\n",
    "y1 = df_graf_ano_fob['VL_FOB']['sum'].tolist()\n",
    "y2 = df_graf_ano_kg['KG_LIQUIDO']['sum'].tolist()\n",
    "y3 = df_graf_ano_frete['VL_FRETE']['sum'].tolist()\n",
    "y4 = df_graf_ano_ncm['CO_NCM']['nunique'].tolist()\n",
    "\n",
    "ax1.plot(x1, y1,color='red')\n",
    "ax2.plot(x2, y2,color='blue')\n",
    "ax3.plot(x3, y3,color='orange')\n",
    "ax4.plot(x4, y4,color='green')\n",
    "\n",
    "ax1.set(title=\"Valor FOB x Ano\", ylabel=\"Valor FOB\", xlabel=\"Ano\")\n",
    "ax2.set(title=\"Peso líquido (Kg) das mercadorias x Ano\", ylabel=\"Peso líquido (Kg)\", xlabel=\"Ano\")\n",
    "ax3.set(title=\"Valor do frete x Ano\", ylabel=\"Valor do frete\", xlabel=\"Ano\")\n",
    "ax4.set(title=\"Contagem diferentes mercadorias (NCM) x Ano\", ylabel=\"Contagem diferentes mercadorias (NCM)\", xlabel=\"Ano\")\n",
    "\n",
    "plt.subplots_adjust(wspace=0.2, hspace=0.5)\n",
    "#plt.legend()\n",
    "plt.show()"
   ]
  },
  {
   "cell_type": "code",
   "execution_count": null,
   "metadata": {
    "colab": {
     "base_uri": "https://localhost:8080/",
     "height": 451
    },
    "id": "nGyL44ugWtgd",
    "outputId": "c836062c-9f79-46a4-fb8c-9672144502e8"
   },
   "outputs": [],
   "source": [
    "#FAZER POR MES\n",
    "df_graf_mes_fob = baseComexEnriquecidaAmostra.groupby([\"CO_MES\"]).agg({\"VL_FOB\":['sum']})\n",
    "df_graf_mes_kg = baseComexEnriquecidaAmostra.groupby([\"CO_MES\"]).agg({\"KG_LIQUIDO\":['sum']})\n",
    "df_graf_mes_frete = baseComexEnriquecidaAmostra.groupby([\"CO_MES\"]).agg({\"VL_FRETE\":['sum']})\n",
    "df_graf_mes_ncm = baseComexEnriquecidaAmostra.groupby([\"CO_MES\"]).agg({\"CO_NCM\":['nunique']})\n",
    "\n",
    "plt.rcdefaults()\n",
    "\n",
    "# Cada plot terá o mesmo tamanho de figuras\n",
    "fig, ((ax1, ax2), (ax3, ax4)) = plt.subplots(2, 2, figsize=(15,7))\n",
    "\n",
    "x1 = df_graf_mes_fob.index.tolist() \n",
    "x2 = df_graf_mes_kg.index.tolist() \n",
    "x3 = df_graf_mes_frete.index.tolist() \n",
    "x4 = df_graf_mes_ncm.index.tolist() \n",
    "\n",
    "y1 = df_graf_mes_fob['VL_FOB'][ 'sum'].tolist()\n",
    "y2 = df_graf_mes_kg['KG_LIQUIDO']['sum'].tolist()\n",
    "y3 = df_graf_mes_frete['VL_FRETE']['sum'].tolist()\n",
    "y4 = df_graf_mes_ncm['CO_NCM']['nunique'].tolist()\n",
    "\n",
    "ax1.plot(x1, y1,color='red')\n",
    "ax2.plot(x2, y2,color='blue')\n",
    "ax3.plot(x3, y3,color='orange')\n",
    "ax4.plot(x4, y4,color='green')\n",
    "\n",
    "ax1.set(title=\"Valor FOB x Mês do ano\", ylabel=\"Valor FOB\", xlabel=\"Mês do ano\")\n",
    "ax2.set(title=\"Peso líquido (Kg) das mercadorias x Mês do ano\", ylabel=\"Peso líquido (Kg)\", xlabel=\"Mês do ano\")\n",
    "ax3.set(title=\"Valor do frete x Mês do ano\", ylabel=\"Valor do frete\", xlabel=\"Mês do ano\")\n",
    "ax4.set(title=\"Contagem diferentes mercadorias (NCM) x Mês do ano\", ylabel=\"Contagem diferentes mercadorias (NCM)\", xlabel=\"Mês do ano\")\n",
    "\n",
    "plt.subplots_adjust(wspace=0.2, hspace=0.5)\n",
    "#plt.legend()\n",
    "plt.show()"
   ]
  },
  {
   "cell_type": "markdown",
   "metadata": {
    "id": "MC9slXbYxmsU"
   },
   "source": [
    "## Wordcloud"
   ]
  },
  {
   "cell_type": "code",
   "execution_count": null,
   "metadata": {
    "id": "8Qoio-bWayrC"
   },
   "outputs": [],
   "source": [
    "#CRIA DICT para wordcloud\n",
    "df_graf_urf_fob = baseComexEnriquecidaAmostra.groupby([\"NO_URF\"]).agg({\"VL_FOB\":['sum']})\n",
    "df_graf_urf_kg = baseComexEnriquecidaAmostra.groupby([\"NO_URF\"]).agg({\"KG_LIQUIDO\":['sum']})\n",
    "\n",
    "df_graf_urf_fob.columns = [\"VL_FOB_sum\"]\n",
    "df_graf_urf_kg.columns = [\"KG_LIQUIDO_sum\"]\n",
    "\n",
    "df_graf_urf_fob[\"VL_FOB_sum\"].apply(int)\n",
    "data_urf_fob = df_graf_urf_fob.to_dict('dict')\n",
    "data_urf_fob = data_urf_fob['VL_FOB_sum']\n",
    "\n",
    "df_graf_urf_kg[\"KG_LIQUIDO_sum\"].apply(int)\n",
    "data_urf_kg = df_graf_urf_kg.to_dict('dict')\n",
    "data_urf_kg = data_urf_kg['KG_LIQUIDO_sum']\n"
   ]
  },
  {
   "cell_type": "code",
   "execution_count": null,
   "metadata": {
    "colab": {
     "base_uri": "https://localhost:8080/",
     "height": 468
    },
    "id": "_qz0lxQAwRBE",
    "outputId": "7361915c-66d0-421b-97ba-95a1689def1b"
   },
   "outputs": [],
   "source": [
    "# gerar uma wordcloud\n",
    "wordcloud = WordCloud(#stopwords=STOPWORDS,\n",
    "                      background_color=\"black\",\n",
    "                      width=1600, height=800).generate_from_frequencies(data_urf_fob)\n",
    "\n",
    "# mostrar a imagem final\n",
    "fig, ax = plt.subplots(figsize=(20,10))\n",
    "ax.imshow(wordcloud, interpolation='bilinear')\n",
    "ax.set_axis_off()\n",
    "\n",
    "plt.imshow(wordcloud)"
   ]
  },
  {
   "cell_type": "code",
   "execution_count": null,
   "metadata": {
    "colab": {
     "base_uri": "https://localhost:8080/",
     "height": 468
    },
    "id": "pXSsLoXAvs-s",
    "outputId": "944098bc-3163-47e2-f7fe-4eb6794ae991"
   },
   "outputs": [],
   "source": [
    "# gerar uma wordcloud\n",
    "wordcloud = WordCloud(#stopwords=STOPWORDS,\n",
    "                      background_color=\"white\",\n",
    "                      width=1600, height=800).generate_from_frequencies(data_urf_kg)\n",
    " \n",
    "# mostrar a imagem final\n",
    "fig, ax = plt.subplots(figsize=(20,10))\n",
    "ax.imshow(wordcloud, interpolation='bilinear')\n",
    "ax.set_axis_off()\n",
    "plt.imshow(wordcloud)"
   ]
  },
  {
   "cell_type": "markdown",
   "metadata": {
    "id": "rpMs3OScxfpQ"
   },
   "source": [
    "## Pairplot"
   ]
  },
  {
   "cell_type": "code",
   "execution_count": null,
   "metadata": {},
   "outputs": [],
   "source": [
    "df_pair_plot = baseComexEnriquecidaAmostra.groupby(['CO_SH2', 'CO_PAIS', 'SG_UF_NCM', 'CO_VIA'], as_index=False).agg({'KG_LIQUIDO':['sum'],\n",
    "       'VL_FOB':['sum'], 'VL_FRETE':['sum']})\n",
    "\n",
    "df_pair_plot.columns = ['CO_SH2', 'CO_PAIS', 'SG_UF_NCM', 'CO_VIA', 'KG_LIQUIDO_sum', 'VL_FOB_sum', 'VL_FRETE_sum']\n",
    "df_pair_plot.shape"
   ]
  },
  {
   "cell_type": "code",
   "execution_count": null,
   "metadata": {
    "colab": {
     "base_uri": "https://localhost:8080/",
     "height": 839
    },
    "id": "uZu28RI9tbgB",
    "outputId": "ac635414-bd86-4ee1-aa45-699b3fcdff91"
   },
   "outputs": [],
   "source": [
    "#análise\n",
    "plt.figure(figsize=(36,20))\n",
    "\n",
    "sns.pairplot(df_pair_plot[['CO_SH2', 'CO_PAIS', 'SG_UF_NCM', 'CO_VIA', 'KG_LIQUIDO_sum',\n",
    "       'VL_FOB_sum', 'VL_FRETE_sum']], hue=\"CO_SH2\", diag_kind=\"hist\", palette=\"bright\")\n",
    "plt.show()"
   ]
  },
  {
   "cell_type": "code",
   "execution_count": null,
   "metadata": {
    "colab": {
     "base_uri": "https://localhost:8080/",
     "height": 706
    },
    "id": "6GX64qXCBIKz",
    "outputId": "decf9f8e-081d-438f-d2cf-a6d6634b1ea2"
   },
   "outputs": [],
   "source": [
    "sns.relplot(x='VL_FRETE_sum', y='KG_LIQUIDO_sum', data = df_pair_plot, kind='scatter', size ='VL_FOB_sum', hue ='CO_PAIS', \n",
    "            sizes =(20,200), palette = 'RdPu', alpha=.5, height = 7)\n",
    "plt.show()"
   ]
  },
  {
   "cell_type": "code",
   "execution_count": null,
   "metadata": {
    "colab": {
     "base_uri": "https://localhost:8080/",
     "height": 506
    },
    "id": "LdQk4_u7JDyu",
    "outputId": "63945e30-4c3b-4dbe-a60c-71a2b9ad9c0b"
   },
   "outputs": [],
   "source": [
    "sns.catplot(x='CO_SH2', y='VL_FOB_sum', data = df_pair_plot[['CO_SH2', 'VL_FOB_sum']], kind='swarm')\n",
    "plt.show()"
   ]
  },
  {
   "cell_type": "markdown",
   "metadata": {
    "id": "xh072DE7NREK"
   },
   "source": [
    "# Criação do Modelo"
   ]
  },
  {
   "cell_type": "markdown",
   "metadata": {
    "id": "tUT2sGo1xsx4"
   },
   "source": [
    "## Ajustes dataset (drop e encoder)"
   ]
  },
  {
   "cell_type": "code",
   "execution_count": null,
   "metadata": {
    "colab": {
     "base_uri": "https://localhost:8080/",
     "height": 268
    },
    "id": "unbikyhet8Pw",
    "outputId": "688016d5-e064-4106-ac36-c8179ad854fa"
   },
   "outputs": [],
   "source": [
    "#Conforme análises pode ser necessário desconsiderar essas colunas antes do treinamento\n",
    "#baseComexModelo.drop(\"VL_SEGURO\", axis=1, inplace=True)\n",
    "#baseComexModelo.drop(\"CO_UNID\", axis=1, inplace=True)\n",
    "#baseComexModelo.drop(\"CO_SH4\", axis=1, inplace=True)\n",
    "#baseComexModelo.drop(\"CO_SH2\", axis=1, inplace=True)\n",
    "#baseComexModelo.drop(\"CO_UNID\", axis=1, inplace=True)\n",
    "\n",
    "baseComexModelo.shape\n",
    "#baseComexModelo.head()"
   ]
  },
  {
   "cell_type": "code",
   "execution_count": null,
   "metadata": {
    "colab": {
     "base_uri": "https://localhost:8080/",
     "height": 268
    },
    "id": "iOuJuRSCq-eU",
    "outputId": "c3153c79-632b-40bc-e908-555644df26e3"
   },
   "outputs": [],
   "source": [
    "#encoder da coluna label\n",
    "le = LabelEncoder()\n",
    "baseComexModelo[\"SG_UF_NCM\"] = le.fit_transform(baseComexModelo[\"SG_UF_NCM\"])\n",
    "baseComexModelo[\"CO_ANO\"] = le.fit_transform(baseComexModelo[\"CO_ANO\"])\n",
    "baseComexModelo[\"CO_NCM\"] = le.fit_transform(baseComexModelo[\"CO_NCM\"])\n",
    "baseComexModelo[\"CO_URF\"] = le.fit_transform(baseComexModelo[\"CO_URF\"])\n",
    "baseComexModelo.head()"
   ]
  },
  {
   "cell_type": "markdown",
   "metadata": {
    "id": "Z-MDZ3dAx4OQ"
   },
   "source": [
    "## Particionamento do dataset"
   ]
  },
  {
   "cell_type": "code",
   "execution_count": null,
   "metadata": {
    "id": "hb_GkWI97nuG"
   },
   "outputs": [],
   "source": [
    "# Particiona a base de dados\n",
    "label_target = \"CO_PAIS\"\n",
    "X = baseComexModelo.drop(label_target, axis=1)\n",
    "y = baseComexModelo[label_target]\n",
    "\n",
    "X_train, X_test, y_train, y_test = train_test_split(X, y, random_state=0, test_size=0.15)"
   ]
  },
  {
   "cell_type": "code",
   "execution_count": null,
   "metadata": {
    "colab": {
     "base_uri": "https://localhost:8080/"
    },
    "id": "Ao-Er2JDKld5",
    "outputId": "f82d35f5-ea01-4713-bb72-596459277e9b"
   },
   "outputs": [],
   "source": [
    "#Quantidade países (target)\n",
    "unique= np.unique(y)\n",
    "print('Contagem de target ({0}): {1}'.format(label_target, unique.size))"
   ]
  },
  {
   "cell_type": "markdown",
   "metadata": {
    "id": "KC-3ibFjx9i9"
   },
   "source": [
    "## Treinamento de modelos"
   ]
  },
  {
   "cell_type": "code",
   "execution_count": null,
   "metadata": {
    "colab": {
     "base_uri": "https://localhost:8080/"
    },
    "id": "je13NrZ9fldD",
    "outputId": "c8b355a7-362a-4d6c-ab80-85fa45b86f20"
   },
   "outputs": [],
   "source": [
    "def print_label_estimador(label):\n",
    "    print('Classificador: {0}'.format(label))\n",
    "\n",
    "#inserir label do modelo a treinar e \"Executar após\"\n",
    "#DecisionTreeClassifier, RandomForestClassifier, CategoricalNB, KNeighborsClassifier e LogisticRegression\n",
    "lista_ml = [\"DecisionTreeClassifier\",\"RandomForestClassifier\", \"CategoricalNB\", \"KNeighborsClassifier\", \"LogisticRegression\"]\n",
    "label_estimador = lista_ml[0]\n",
    "print_label_estimador(label_estimador)"
   ]
  },
  {
   "cell_type": "markdown",
   "metadata": {
    "id": "O6bNRfj_yD1-"
   },
   "source": [
    "### DecisionTreeClassifier"
   ]
  },
  {
   "cell_type": "code",
   "execution_count": null,
   "metadata": {
    "id": "opvHH2Ulyhzq"
   },
   "outputs": [],
   "source": [
    "if label_estimador == \"DecisionTreeClassifier\":\n",
    "  ml_estimador = DecisionTreeClassifier(criterion='entropy', \n",
    "                                        splitter='best', \n",
    "                                        random_state=0, \n",
    "                                        min_samples_leaf=1)\n",
    "\n",
    "  #fit construindo a árvore, nosso modelo\n",
    "  ml_estimador_model = ml_estimador.fit(X_train, y_train)"
   ]
  },
  {
   "cell_type": "markdown",
   "metadata": {
    "id": "hTj-S8E1V50r"
   },
   "source": [
    "### RandomForestClassifier"
   ]
  },
  {
   "cell_type": "code",
   "execution_count": null,
   "metadata": {
    "id": "3t3CXVEGV6IH"
   },
   "outputs": [],
   "source": [
    "if label_estimador == \"RandomForestClassifier\":\n",
    "  ml_estimador = RandomForestClassifier(\n",
    "                            random_state=0,\n",
    "                            criterion='entropy',\n",
    "                            max_depth=None,\n",
    "                            n_estimators=100,\n",
    "                            min_samples_leaf=1,\n",
    "                            n_jobs=-1)\n",
    "\n",
    "  ml_estimador_model = ml_estimador.fit(X_train, y_train)"
   ]
  },
  {
   "cell_type": "markdown",
   "metadata": {
    "id": "7UxPRco-90Dj"
   },
   "source": [
    "### Categorical Naive Bayes"
   ]
  },
  {
   "cell_type": "code",
   "execution_count": null,
   "metadata": {
    "id": "UpTjmj-490Vx"
   },
   "outputs": [],
   "source": [
    "if label_estimador == \"CategoricalNB\":\n",
    "  ml_estimador = CategoricalNB(alpha = 0.1, fit_prior = False)\n",
    "  ml_estimador_model = ml_estimador.fit(X_train, y_train)"
   ]
  },
  {
   "cell_type": "markdown",
   "metadata": {
    "id": "QWkKcR1y5gjZ"
   },
   "source": [
    "### KNeighborsClassifier"
   ]
  },
  {
   "cell_type": "code",
   "execution_count": null,
   "metadata": {
    "id": "uhFMfLvevsxB"
   },
   "outputs": [],
   "source": [
    "if label_estimador == \"KNeighborsClassifier\":\n",
    "  ml_estimador = KNeighborsClassifier(n_neighbors=9, metric= 'hamming')\n",
    "  ml_estimador_model = ml_estimador.fit(X_train, y_train)  "
   ]
  },
  {
   "cell_type": "markdown",
   "metadata": {
    "id": "F062vUgLQGyW"
   },
   "source": [
    "### LogisticRegression"
   ]
  },
  {
   "cell_type": "code",
   "execution_count": null,
   "metadata": {
    "id": "rajX0uD7KolM"
   },
   "outputs": [],
   "source": [
    "if label_estimador == \"LogisticRegression\":\n",
    "  ml_estimador = LogisticRegression(random_state=0)\n",
    "  ml_estimador_model = ml_estimador.fit(X_train, y_train)  "
   ]
  },
  {
   "cell_type": "markdown",
   "metadata": {
    "id": "4CSD-FRwylVd"
   },
   "source": [
    "## Avaliação dos modelos"
   ]
  },
  {
   "cell_type": "code",
   "execution_count": null,
   "metadata": {
    "id": "ZBUDiNTo0fIq"
   },
   "outputs": [],
   "source": [
    "#predizer y a partir de um X\n",
    "y_pred = ml_estimador_model.predict(X_test)"
   ]
  },
  {
   "cell_type": "code",
   "execution_count": null,
   "metadata": {
    "colab": {
     "base_uri": "https://localhost:8080/"
    },
    "id": "4YbYeBO7yUZl",
    "outputId": "5af6dee4-5bef-4394-b406-526aa9ce4677"
   },
   "outputs": [],
   "source": [
    "X_train.dtypes"
   ]
  },
  {
   "cell_type": "markdown",
   "metadata": {
    "id": "cARdIIob0lqq"
   },
   "source": [
    "### Acurácia"
   ]
  },
  {
   "cell_type": "code",
   "execution_count": null,
   "metadata": {
    "colab": {
     "base_uri": "https://localhost:8080/"
    },
    "id": "CKR8We5m0l_c",
    "outputId": "bcc3847d-80f4-47f9-ee67-e9a9962acea4"
   },
   "outputs": [],
   "source": [
    "# Acurácia\n",
    "print_label_estimador(label_estimador)\n",
    "accuracy_test = accuracy_score(y_test, y_pred)\n",
    "print('Acurácia: {0:.2f}% no treino, {1:.2f}% no teste'.\n",
    "      format(ml_estimador_model.score(X_train, y_train) * 100, accuracy_test * 100))"
   ]
  },
  {
   "cell_type": "markdown",
   "metadata": {
    "id": "v8cOvcGl0mK3"
   },
   "source": [
    "### Precisão"
   ]
  },
  {
   "cell_type": "code",
   "execution_count": null,
   "metadata": {
    "colab": {
     "base_uri": "https://localhost:8080/"
    },
    "id": "jEqQECX10mSt",
    "outputId": "cd08b889-9c3c-4296-bdd2-3dd086d7d49a"
   },
   "outputs": [],
   "source": [
    "# Precision\n",
    "print_label_estimador(label_estimador)\n",
    "precision = precision_score(y_test, y_pred, average='weighted')\n",
    "print('Precision: %f' % precision)"
   ]
  },
  {
   "cell_type": "markdown",
   "metadata": {
    "id": "DCWJS5TD0mdY"
   },
   "source": [
    "### Recall"
   ]
  },
  {
   "cell_type": "code",
   "execution_count": null,
   "metadata": {
    "colab": {
     "base_uri": "https://localhost:8080/"
    },
    "id": "5H5GRqRf0mks",
    "outputId": "6c3229f0-cf39-43d9-a0d2-aa44d4270c5b"
   },
   "outputs": [],
   "source": [
    "# Recall\n",
    "print_label_estimador(label_estimador)\n",
    "recall = recall_score(y_test, y_pred, average='weighted')\n",
    "print('Recall: %f' % recall)"
   ]
  },
  {
   "cell_type": "markdown",
   "metadata": {
    "id": "j1kYXnqb0zeV"
   },
   "source": [
    "### F1-Score"
   ]
  },
  {
   "cell_type": "code",
   "execution_count": null,
   "metadata": {
    "colab": {
     "base_uri": "https://localhost:8080/"
    },
    "id": "i9W_v-bp0zxx",
    "outputId": "72d8fb89-bccc-46bf-afba-e6f065c15e37"
   },
   "outputs": [],
   "source": [
    "# F1-Score\n",
    "print_label_estimador(label_estimador)\n",
    "f1 = f1_score(y_test, y_pred, average='weighted')\n",
    "print('F1-Score: %f' % f1)"
   ]
  },
  {
   "cell_type": "markdown",
   "metadata": {
    "id": "x80J_D491dL4"
   },
   "source": [
    "### Classification report"
   ]
  },
  {
   "cell_type": "code",
   "execution_count": null,
   "metadata": {
    "colab": {
     "base_uri": "https://localhost:8080/"
    },
    "id": "c5u1aknh1dZx",
    "outputId": "f9c2f6b8-3d5c-40dd-82f3-acdf7d780b6b"
   },
   "outputs": [],
   "source": [
    "print_label_estimador(label_estimador)\n",
    "print(classification_report(y_test, y_pred))"
   ]
  },
  {
   "cell_type": "markdown",
   "metadata": {
    "id": "hoqtmJ510rac"
   },
   "source": [
    "### Matriz de confusão"
   ]
  },
  {
   "cell_type": "code",
   "execution_count": null,
   "metadata": {
    "colab": {
     "base_uri": "https://localhost:8080/",
     "height": 972
    },
    "id": "CGAE_vNxNVyF",
    "outputId": "8d162e19-33a4-497a-ef4a-09818174c60f"
   },
   "outputs": [],
   "source": [
    "plt.figure(figsize=(20,20))\n",
    "cnf_matrix = confusion_matrix(y_test, y_pred)\n",
    "cnf_table = pd.DataFrame(data=cnf_matrix)\n",
    "data = {\n",
    "    'Ocorreu': y_test,\n",
    "    'Predito': y_pred\n",
    "}\n",
    "df = pd.DataFrame(data, columns=['Ocorreu','Predito'])\n",
    "conf = pd.crosstab(df['Ocorreu'], df['Predito'], rownames=['Ocorreu'], colnames=['Predito'])\n",
    "sns.heatmap(conf, annot=True, annot_kws={\"size\":5}, cmap=plt.cm.Blues)\n",
    "\n",
    "plt.title('Matriz de Confusão')\n",
    "plt.show()"
   ]
  },
  {
   "cell_type": "markdown",
   "metadata": {
    "id": "mpgcIJDSoEmz"
   },
   "source": [
    "### Feature Importance"
   ]
  },
  {
   "cell_type": "code",
   "execution_count": null,
   "metadata": {
    "colab": {
     "base_uri": "https://localhost:8080/",
     "height": 562
    },
    "id": "YoEvAHZeljyc",
    "outputId": "b3a28934-98b1-49e0-cbea-ddd755e486e4"
   },
   "outputs": [],
   "source": [
    "print_label_estimador(label_estimador)\n",
    "\n",
    "try:\n",
    "    if label_estimador == \"CategoricalNB\" or label_estimador == \"KNeighborsClassifier\" or label_estimador == \"LogisticRegression\" or label_estimador == \"SupportVectorMachine\":\n",
    "        #feature_importances_ para Naive Bayes\n",
    "        imps = permutation_importance(ml_estimador_model, X_test, y_test)\n",
    "        importancia = pd.DataFrame({\"Feature\":X.columns.values, \"Importância (%)\": 100 * imps.importances_mean})  \n",
    "    else:\n",
    "        #feature para Tree\n",
    "        importancia = pd.DataFrame({\"Coluna\":X.columns.values, \"Importância (%)\": 100 * ml_estimador_model.feature_importances_})\n",
    "except BaseException:\n",
    "    print(\"feature_importances_ indisponível na versão sklearn.__version__\")\n",
    "    \n",
    "importancia.sort_values(by=[\"Importância (%)\"], ascending=False)"
   ]
  },
  {
   "cell_type": "markdown",
   "metadata": {
    "id": "OWP2ntG6L9m6"
   },
   "source": [
    "### Validação cruzada"
   ]
  },
  {
   "cell_type": "code",
   "execution_count": null,
   "metadata": {
    "id": "wqy7ZNVFhPaJ"
   },
   "outputs": [],
   "source": [
    "#executar Cross Validation com 5 partes\n",
    "\n",
    "cv = KFold(n_splits = 5, shuffle = True)\n",
    "scores = cross_val_score(ml_estimador, X_train, y_train, cv=cv, scoring=\"accuracy\" )"
   ]
  },
  {
   "cell_type": "code",
   "execution_count": null,
   "metadata": {
    "colab": {
     "base_uri": "https://localhost:8080/"
    },
    "id": "F9hbkqgKh_Yo",
    "outputId": "7cb45be8-0395-4969-b32b-b547cda9f859"
   },
   "outputs": [],
   "source": [
    "print_label_estimador(label_estimador)\n",
    "\n",
    "scores\n",
    "print(scores.mean())\n",
    "print(scores.std())\n",
    "mean_accuracy = scores.mean()\n",
    "dv = scores.std()\n",
    "print('Acurácia média: {:.2f}%'.format(mean_accuracy*100))\n",
    "print('Intervalo de acurácia: [{:.2f}% ~ {:.2f}%]'\n",
    "           .format((mean_accuracy - 2*dv)*100, (mean_accuracy + 2*dv)*100))"
   ]
  },
  {
   "cell_type": "markdown",
   "metadata": {
    "id": "I_3tF3EZnmGq"
   },
   "source": [
    "### GridSearchCV"
   ]
  },
  {
   "cell_type": "code",
   "execution_count": null,
   "metadata": {
    "colab": {
     "base_uri": "https://localhost:8080/"
    },
    "id": "rK4uak5OnhKC",
    "outputId": "cecabbd7-75cf-4486-b67d-d0445f8aa793"
   },
   "outputs": [],
   "source": [
    "print_label_estimador(label_estimador)\n",
    "\n",
    "list_min_samples_leaf = list(range(1, 7, 1))\n",
    "\n",
    "k_list = list(range(1,21))\n",
    "    \n",
    "if label_estimador == \"CategoricalNB\":\n",
    "  param_grid = {'var_smoothing': np.logspace(0,-9, num=30)}\n",
    "\n",
    "elif label_estimador == \"KNeighborsClassifier\":\n",
    "  param_grid = {'n_neighbors': k_list,\n",
    "                'metric': ['minkowski','canberra', 'hamming', 'euclidean', 'manhattan']}\n",
    "elif label_estimador == \"LogisticRegression\":\n",
    "  param_grid = {'C': np.logspace(-5, 8, 5), 'penalty': ['l1', 'l2']}\n",
    "else:\n",
    "  param_grid = {\"criterion\": ['entropy', 'gini'],\n",
    "                \"min_samples_leaf\": list_min_samples_leaf}"
   ]
  },
  {
   "cell_type": "code",
   "execution_count": null,
   "metadata": {},
   "outputs": [],
   "source": [
    "print_label_estimador(label_estimador)\n",
    "grid_search = GridSearchCV(ml_estimador_model, param_grid, scoring=\"accuracy\", cv=5)\n",
    "grid_search.fit(X_train, y_train)\n",
    "\n",
    "classifier_rf = grid_search.best_estimator_ \n",
    "print(\"Melhores parametros {} com o valor de acurácia {} \".\n",
    "      format(grid_search.best_params_, grid_search.best_score_))"
   ]
  },
  {
   "cell_type": "markdown",
   "metadata": {
    "id": "TO-YlAoQgW3e"
   },
   "source": [
    "### RandomizedSearchCV"
   ]
  },
  {
   "cell_type": "code",
   "execution_count": null,
   "metadata": {
    "id": "mZ5u9aMogV3Y"
   },
   "outputs": [],
   "source": [
    "print_label_estimador(label_estimador)\n",
    "\n",
    "randomized_search = RandomizedSearchCV(ml_estimador_model, param_grid, scoring=\"accuracy\", cv=5, n_iter=10,)\n",
    "randomized_search.fit(X_train, y_train)\n",
    "\n",
    "randomized_search.best_estimator_ \n",
    "randomized_search.best_params_, randomized_search.best_score_\n",
    "print(\"Melhores parametros {} com o valor de acurácia {} \".\n",
    "      format(randomized_search.best_params_, randomized_search.best_score_))"
   ]
  },
  {
   "cell_type": "markdown",
   "metadata": {
    "id": "51vskKpo8202"
   },
   "source": [
    "### Erro médio absoluto"
   ]
  },
  {
   "cell_type": "code",
   "execution_count": null,
   "metadata": {
    "id": "yMpv309p43m3"
   },
   "outputs": [],
   "source": [
    "print_label_estimador(label_estimador)\n",
    "\n",
    "mean = mean_absolute_error(y_test, y_pred)\n",
    "print(mean)"
   ]
  },
  {
   "cell_type": "markdown",
   "metadata": {
    "id": "HEoHYthd52iw"
   },
   "source": [
    "### Visualizar árvore"
   ]
  },
  {
   "cell_type": "code",
   "execution_count": null,
   "metadata": {
    "id": "VcIiaYMXHKeP"
   },
   "outputs": [],
   "source": [
    "### Teste visualização pequenas árvores\n",
    "    if label_estimador == \"DecisionTreeClassifier - false\":\n",
    "        name_classes = [str(val) for val in ml_estimador_model.classes_]\n",
    "        # Create DOT data\n",
    "        dot_data = tree.export_graphviz(ml_estimador_model, out_file=None, \n",
    "                                        #proportion=True,\n",
    "                                        rounded = True,\n",
    "                                        filled = True, \n",
    "                                        feature_names = ml_estimador_model.feature_names_in_,  \n",
    "                                        class_names = name_classes)\n",
    "        # Draw graph\n",
    "        graph = pydotplus.graph_from_dot_data(dot_data)  \n",
    "        # Show graph\n",
    "        Image(graph.create_png())"
   ]
  },
  {
   "cell_type": "markdown",
   "metadata": {},
   "source": [
    "### Avaliação comparativa de performance"
   ]
  },
  {
   "cell_type": "code",
   "execution_count": null,
   "metadata": {
    "id": "83KLxrNscDe_"
   },
   "outputs": [],
   "source": [
    "#Estrutura y_metricas acumula métricas de avaliação de performance dos modelos\n",
    "#Deve-se executar após seção \"Treinamento de modelos\" para cada um dos modelos\n",
    "y_metricas[label_estimador] = [accuracy_test, mean_accuracy, precision, recall, f1]\n",
    "print(y_metricas)"
   ]
  },
  {
   "cell_type": "code",
   "execution_count": null,
   "metadata": {
    "id": "jnzAxx83V8D-",
    "scrolled": false
   },
   "outputs": [],
   "source": [
    "#Criar gráfico comparativo\n",
    "x = np.arange(5) \n",
    "plt.figure(figsize=(12,7))\n",
    "width = 0.1\n",
    "\n",
    "for i in range(0, len(lista_ml)):\n",
    "  if lista_ml[i] in y_metricas.keys():\n",
    "    plt.bar(x +(width*(i)), y_metricas[lista_ml[i]], width, label=lista_ml[i]) \n",
    "\n",
    "plt.xticks(x, [\"Acurácia\", \"Acurácia_CV\", \"Precisão\", \"Recall\", \"F1-Score\"])\n",
    "plt.legend()\n",
    "plt.title('Avaliação comparativa de performance')\n",
    "plt.show()"
   ]
  },
  {
   "cell_type": "code",
   "execution_count": null,
   "metadata": {},
   "outputs": [],
   "source": []
  }
 ],
 "metadata": {
  "colab": {
   "collapsed_sections": [],
   "name": "baseComexTcc_DecisionTreeClassifier.ipynb",
   "provenance": [],
   "toc_visible": true
  },
  "kernelspec": {
   "display_name": "Python 3",
   "language": "python",
   "name": "python3"
  },
  "language_info": {
   "codemirror_mode": {
    "name": "ipython",
    "version": 3
   },
   "file_extension": ".py",
   "mimetype": "text/x-python",
   "name": "python",
   "nbconvert_exporter": "python",
   "pygments_lexer": "ipython3",
   "version": "3.6.8"
  }
 },
 "nbformat": 4,
 "nbformat_minor": 1
}
